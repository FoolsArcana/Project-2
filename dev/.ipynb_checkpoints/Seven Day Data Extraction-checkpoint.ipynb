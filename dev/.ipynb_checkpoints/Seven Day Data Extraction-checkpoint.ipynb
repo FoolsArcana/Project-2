{
 "cells": [
  {
   "cell_type": "code",
   "execution_count": 1,
   "metadata": {
    "collapsed": true
   },
   "outputs": [],
   "source": [
    "import os"
   ]
  },
  {
   "cell_type": "code",
   "execution_count": 2,
   "metadata": {
    "collapsed": true
   },
   "outputs": [],
   "source": [
    "import os.path"
   ]
  },
  {
   "cell_type": "code",
   "execution_count": 3,
   "metadata": {
    "collapsed": true
   },
   "outputs": [],
   "source": [
    "import time\n",
    "import atexit\n",
    "import csv\n",
    "import requests\n",
    "import json\n",
    "import numpy\n",
    "import datetime\n",
    "import pandas as pd\n",
    "import numpy as np\n",
    "\n",
    "from flask import Flask"
   ]
  },
  {
   "cell_type": "code",
   "execution_count": 4,
   "metadata": {
    "collapsed": true
   },
   "outputs": [],
   "source": [
    "def get_metadata(filename):\n",
    "    metadata = []\n",
    "    parsedata = filename.split('/')\n",
    "    metadata.append(parsedata[1])\n",
    "    station = parsedata[2].split('_')\n",
    "    metadata.append(str(station[0] + ',' + station[1]))\n",
    "    timestamp_raw = parsedata[3].split('.')\n",
    "    timestamp_bo = timestamp_raw[0].split('_')\n",
    "    timetext = timestamp_bo[0] + '-' + timestamp_bo[1] + '-' + timestamp_bo[2] + ':' + timestamp_bo[3] + ':' + '00:00'\n",
    "    timestamp = time.strftime('%Y-%m-%d:%H:%M:%S', time.strptime(timetext, '%y-%m-%d:%H:%M:%S'))\n",
    "    metadata.append(timestamp)\n",
    "    \n",
    "    return metadata    "
   ]
  },
  {
   "cell_type": "code",
   "execution_count": 5,
   "metadata": {
    "collapsed": true
   },
   "outputs": [],
   "source": [
    "# Change to top level of extracted data archive\n",
    "os.chdir(\"C:/Users/Wreedles/Desktop/data\")"
   ]
  },
  {
   "cell_type": "code",
   "execution_count": 6,
   "metadata": {
    "collapsed": true
   },
   "outputs": [],
   "source": [
    "new = os.getcwd().replace(\"\\\\\",\"/\")"
   ]
  },
  {
   "cell_type": "code",
   "execution_count": 7,
   "metadata": {
    "collapsed": true
   },
   "outputs": [],
   "source": [
    "filepaths = []\n",
    "for dirpath, dirnames, filenames in os.walk(new):\n",
    "    for filename in [f for f in filenames if f.endswith(\".json\")]:\n",
    "        filepaths.append(\".\" + os.path.join(dirpath, filename)[len(new):].replace(\"\\\\\",\"/\"))"
   ]
  },
  {
   "cell_type": "code",
   "execution_count": 8,
   "metadata": {
    "collapsed": true
   },
   "outputs": [],
   "source": [
    "dl = []\n",
    "for filename in filepaths:\n",
    "    file_metadata = get_metadata(filename)\n",
    "    station = file_metadata[0]\n",
    "    gridblock = file_metadata[1]\n",
    "    timestamp = file_metadata[2]\n",
    "    with open(filename) as data_file:\n",
    "        sample_data = json.load(data_file)\n",
    "        try:\n",
    "            forecast_lonlat = sample_data[\"forecastData\"][\"geometry\"][\"geometries\"][0][\"coordinates\"]\n",
    "            forecastLat = forecast_lonlat[-1]\n",
    "            forecastLng = forecast_lonlat[0]\n",
    "            poly_coords = sample_data[\"forecastData\"][\"geometry\"][\"geometries\"][1][\"coordinates\"]\n",
    "            for outer_item in poly_coords:\n",
    "                reversed_list = []\n",
    "                for inner_item in outer_item:\n",
    "                    reversed_list.append([inner_item[-1], inner_item[0]])\n",
    "        except:\n",
    "            forecastLat = float('nan')\n",
    "            forecastLng = float('nan')\n",
    "            reversed_list = float('nan')\n",
    "        try:\n",
    "            for period in sample_data['forecastData']['properties']['periods']:\n",
    "                sevenDayForecast = {}\n",
    "                sevenDayForecast[\"station\"] = station \n",
    "                sevenDayForecast[\"gridblock\"] = gridblock \n",
    "                sevenDayForecast[\"timestamp\"] = timestamp\n",
    "                sevenDayForecast[\"latitude\"] = forecastLat\n",
    "                sevenDayForecast[\"longitude\"] = forecastLng\n",
    "                sevenDayForecast[\"polyCoords\"] = reversed_list\n",
    "                sevenDayForecast[\"timeOfDay\"] = period[\"name\"]\n",
    "                sevenDayForecast[\"day\"] = period[\"startTime\"].split(\"T\")[0]\n",
    "                sevenDayForecast[\"temp\"] = period[\"temperature\"]\n",
    "                sevenDayForecast[\"windSpeed\"] = period[\"windSpeed\"]\n",
    "                sevenDayForecast[\"windDirection\"] = period[\"windDirection\"]\n",
    "                sevenDayForecast[\"icon\"] = period[\"icon\"]\n",
    "                sevenDayForecast[\"shortForecast\"] = period[\"shortForecast\"]\n",
    "                sevenDayForecast[\"longForecast\"] = period[\"detailedForecast\"]\n",
    "    \n",
    "                dl.append(sevenDayForecast)\n",
    "        \n",
    "        except:\n",
    "            sevenDayForecast = {}\n",
    "            sevenDayForecast[\"latitude\"] = forecastLat\n",
    "            sevenDayForecast[\"longitude\"] = forecastLng\n",
    "            sevenDayForecast[\"timeOfDay\"] = float('nan')\n",
    "            sevenDayForecast[\"day\"] = float('nan')\n",
    "            sevenDayForecast[\"temp\"] = float('nan')\n",
    "            sevenDayForecast[\"windSpeed\"] = float('nan')\n",
    "            sevenDayForecast[\"windDirection\"] = float('nan')\n",
    "            sevenDayForecast[\"icon\"] = float('nan')\n",
    "            sevenDayForecast[\"shortForecast\"] = float('nan')\n",
    "            sevenDayForecast[\"longForecast\"] = float('nan')\n",
    "    \n",
    "            dl.append(sevenDayForecast)"
   ]
  },
  {
   "cell_type": "code",
   "execution_count": 9,
   "metadata": {
    "collapsed": true
   },
   "outputs": [],
   "source": [
    "df_sevendaydata = pd.DataFrame.from_records(dl)"
   ]
  },
  {
   "cell_type": "code",
   "execution_count": 10,
   "metadata": {
    "collapsed": true
   },
   "outputs": [],
   "source": [
    "df_sevendaydata.dropna(axis=0, how='any', thresh=None, subset=None, inplace=True)"
   ]
  },
  {
   "cell_type": "code",
   "execution_count": 11,
   "metadata": {
    "collapsed": true
   },
   "outputs": [],
   "source": [
    "df_sevendaydata = df_sevendaydata[[\"station\",\n",
    "                                   \"gridblock\",\n",
    "                                   \"timestamp\",\n",
    "                                   \"latitude\",\n",
    "                                   \"longitude\",\n",
    "                                   \"polyCoords\",\n",
    "                                   \"timeOfDay\", \n",
    "                                   \"day\", \n",
    "                                   \"temp\", \n",
    "                                   \"windSpeed\", \n",
    "                                   \"windDirection\", \n",
    "                                   \"icon\", \n",
    "                                   \"shortForecast\", \n",
    "                                   \"longForecast\"]]"
   ]
  },
  {
   "cell_type": "code",
   "execution_count": 12,
   "metadata": {
    "collapsed": true
   },
   "outputs": [],
   "source": [
    "df_sevendaydata.index.name = 'id'"
   ]
  },
  {
   "cell_type": "code",
   "execution_count": 13,
   "metadata": {
    "collapsed": true
   },
   "outputs": [],
   "source": [
    "# Will export to top level of extracted data archive\n",
    "df_sevendaydata.to_csv(\"sevendaydata.csv\")"
   ]
  },
  {
   "cell_type": "code",
   "execution_count": null,
   "metadata": {
    "collapsed": true
   },
   "outputs": [],
   "source": []
  }
 ],
 "metadata": {
  "kernelspec": {
   "display_name": "Python [conda env:PythonData]",
   "language": "python",
   "name": "conda-env-PythonData-py"
  },
  "language_info": {
   "codemirror_mode": {
    "name": "ipython",
    "version": 3
   },
   "file_extension": ".py",
   "mimetype": "text/x-python",
   "name": "python",
   "nbconvert_exporter": "python",
   "pygments_lexer": "ipython3",
   "version": "3.6.3"
  }
 },
 "nbformat": 4,
 "nbformat_minor": 2
}
